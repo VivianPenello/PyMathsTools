{
 "cells": [
  {
   "cell_type": "markdown",
   "id": "ee67388d",
   "metadata": {},
   "source": [
    "# Please execute the cell below to import the module"
   ]
  },
  {
   "cell_type": "code",
   "execution_count": 1,
   "id": "cd1db4cb",
   "metadata": {},
   "outputs": [],
   "source": [
    "from pymathstools.statistic import standard_deviation"
   ]
  },
  {
   "cell_type": "markdown",
   "id": "9188a9e4",
   "metadata": {},
   "source": [
    "# Example of the variance function"
   ]
  },
  {
   "cell_type": "code",
   "execution_count": 2,
   "id": "fe3dd08d",
   "metadata": {},
   "outputs": [
    {
     "name": "stdout",
     "output_type": "stream",
     "text": [
      "Variance of serie1: 32161864.514047865\n",
      "Variance of serie2: 1039242890.3288888\n"
     ]
    }
   ],
   "source": [
    "serie1 = [ 4275, -3418, -5639, -755, 3586, 7832, -6560, 9618, 8074, 3594,\n",
    "    -1057, -4400, -8273, -3905, -2923, -2891, -5200, -1655, 3271, -4478,\n",
    "    9967, -4104, 5359, -6139, -7795, 5902, -6339, -429, -6306, -8689, 6917]\n",
    "\n",
    "serie2 = [ 48497, 79759, 21033, 96068, 90886, 22798, 50351, 12087, 17523, 4683,\n",
    "    69234, 18607, 76558, 32917, 366, 98291, 94085, 6272, 36492, 91415,\n",
    "    10965, 15544, 48597, 26173, 20093, 60006, 43647, 97601, 65478, 78152]\n",
    "\n",
    "print(\"Variance of serie1:\", standard_deviation.variance(serie1))\n",
    "print(\"Variance of serie2:\", standard_deviation.variance(serie2))"
   ]
  },
  {
   "cell_type": "markdown",
   "id": "572629d8",
   "metadata": {},
   "source": [
    "# Example the sample variance function"
   ]
  },
  {
   "cell_type": "code",
   "execution_count": 3,
   "id": "765b1816",
   "metadata": {},
   "outputs": [
    {
     "name": "stdout",
     "output_type": "stream",
     "text": [
      "Sample variance of serie1: 24773212.924731184\n",
      "Sample variance of serie2: 1023606586.0471264\n"
     ]
    }
   ],
   "source": [
    "serie1 = [ 5025, -5787, 233, 2664, 1338, 6257, -2689, 3631, -2410, -6236,\n",
    "    -8984, -1471, 813, -5165, -2760, -5932, 5314, -6944, 5603, -5992,\n",
    "    8150, -2566, -4697, 8397, -8895, 14, -1362, -636, -2724, 4817, 3107]\n",
    "\n",
    "serie2 = [3982, 92225, 4894, 8350, 10356, 40846, 70897, 3113, 92865, 91841,\n",
    "    28071, 51236, 89212, 20260, 95551, 57811, 87779, 63381, 81077, 63361,\n",
    "    22803, 61101, 12449, 41585, 34944, 28996, 57780, 99391, 78816, 60234]\n",
    "\n",
    "print(\"Sample variance of serie1:\", standard_deviation.sample_variance(serie1))\n",
    "print(\"Sample variance of serie2:\", standard_deviation.sample_variance(serie2))"
   ]
  },
  {
   "cell_type": "markdown",
   "id": "1d5d33b3",
   "metadata": {},
   "source": [
    "# Example of the standard deviation function"
   ]
  },
  {
   "cell_type": "code",
   "execution_count": 4,
   "id": "887b7cc1",
   "metadata": {},
   "outputs": [
    {
     "name": "stdout",
     "output_type": "stream",
     "text": [
      "Standard deviation of serie1: 5914.469426172745\n",
      "Standard deviation of serie2: 27934.943881195744\n"
     ]
    }
   ],
   "source": [
    "serie1 = [8444, 8530, 5444, 640, -4611, -5024, -5801, -9920, 100, 1407,\n",
    "    -571, -8271, -6413, 6586, -7237, -408, -6262, 90, 5608, -4073,\n",
    "    -7547, -8121, -3233, -9537, 1725, 6463, 1967, -5241, 9647, 7799, 1988]\n",
    "\n",
    "serie2 = [94527, 49825, 52171, 96536, 83402, 3830, 28228, 81837, 38965, 53615,\n",
    "    24418, 76502, 45455, 68388, 73710, 84006, 46123, 38494, 4743, 74421,\n",
    "    85882, 90972, 7397, 81282, 10278, 78163, 70824, 62623, 44183, 28253]\n",
    "\n",
    "print(\"Standard deviation of serie1:\", standard_deviation.standard_deviation(serie1))\n",
    "print(\"Standard deviation of serie2:\", standard_deviation.standard_deviation(serie2))"
   ]
  },
  {
   "cell_type": "markdown",
   "id": "49a67d94",
   "metadata": {},
   "source": [
    "# Example of the sample standard deviation function"
   ]
  },
  {
   "cell_type": "code",
   "execution_count": 5,
   "id": "f9763eec",
   "metadata": {},
   "outputs": [
    {
     "name": "stdout",
     "output_type": "stream",
     "text": [
      "Sample standard deviation of serie1: 4685.561075869028\n",
      "Sample standard deviation of serie2: 29673.875456812795\n"
     ]
    }
   ],
   "source": [
    "serie1 = [4477, -2018, 515, 3929, 4591, -2275, 1147, -8457, -2938, 3089,\n",
    "    6398, -3075, -458, 885, 1660, 5156, 249, -4659, 5897, -4786,\n",
    "    6519, -253, 115, -9858, 6592, -8386, 1050, 9160, 949, -2679, 420]\n",
    "\n",
    "serie2 = [52326, 16492, 99850, 22331, 99863, 31480, 70340, 40307, 3861, 78944,\n",
    "    33333, 89602, 25386, 44588, 42789, 44598, 10443, 18785, 92057, 23369,\n",
    "    90240, 16215, 3853, 42980, 70191, 56358, 48556, 28763, 79442, 19673]\n",
    "\n",
    "print(\"Sample standard deviation of serie1:\", standard_deviation.sample_standard_deviation(serie1))\n",
    "print(\"Sample standard deviation of serie2:\", standard_deviation.sample_standard_deviation(serie2))"
   ]
  }
 ],
 "metadata": {
  "kernelspec": {
   "display_name": "Python 3",
   "language": "python",
   "name": "python3"
  },
  "language_info": {
   "codemirror_mode": {
    "name": "ipython",
    "version": 3
   },
   "file_extension": ".py",
   "mimetype": "text/x-python",
   "name": "python",
   "nbconvert_exporter": "python",
   "pygments_lexer": "ipython3",
   "version": "3.13.3"
  }
 },
 "nbformat": 4,
 "nbformat_minor": 5
}
