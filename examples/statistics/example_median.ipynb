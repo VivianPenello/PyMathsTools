{
 "cells": [
  {
   "cell_type": "markdown",
   "id": "f753f6f0",
   "metadata": {},
   "source": [
    "# Please execute the cell below to import the module"
   ]
  },
  {
   "cell_type": "code",
   "execution_count": 1,
   "id": "4f7d3e91",
   "metadata": {},
   "outputs": [],
   "source": [
    "from pymathstools.statistic import median"
   ]
  },
  {
   "cell_type": "markdown",
   "id": "dde91f9c",
   "metadata": {},
   "source": [
    "# Example of the median function"
   ]
  },
  {
   "cell_type": "code",
   "execution_count": 2,
   "id": "94193a2a",
   "metadata": {},
   "outputs": [
    {
     "name": "stdout",
     "output_type": "stream",
     "text": [
      "Median of serie 1: 308.5\n",
      "Median of serie 2: 57871\n"
     ]
    }
   ],
   "source": [
    "serie1 = [5903, -536, -6144, -8640, -4107, -8835, -6105, 5877, 2862, 3625,\n",
    "    6516, 8147, -9882, 8172, -6224, -7809, 7292, 1319, -9224, -7499,\n",
    "    -8725, 1085, -4369, 5138, -830, -468, 1177, 4996, 4605, 8121]\n",
    "\n",
    "serie2 = [52918, 6265, 2559, 82911, 17396, 87889, 63329, 52777, 6328, 21981,\n",
    "    31594, 79371, 79913, 69241, 32573, 64449, 74047, 70925, 15690, 29846,\n",
    "    84117, 61773, 71779, 30595, 6187, 96883, 88533, 83286, 41031, 57871, 18734]\n",
    "\n",
    "print(\"Median of serie 1:\", median.median(serie1))\n",
    "print(\"Median of serie 2:\", median.median(serie2))"
   ]
  },
  {
   "cell_type": "markdown",
   "id": "2ebde010",
   "metadata": {},
   "source": [
    "# Example of the median absolute deviation fuction"
   ]
  },
  {
   "cell_type": "code",
   "execution_count": 3,
   "id": "01153053",
   "metadata": {},
   "outputs": [
    {
     "name": "stdout",
     "output_type": "stream",
     "text": [
      "Median absolute deviation of serie 1: 4722.0\n",
      "Median absolute deviation of serie 2: 15354\n"
     ]
    }
   ],
   "source": [
    "serie1 = [7617, 3030, -3194, -1204, 5901, -9312, -8794, -1730, 9825, -3021,\n",
    "    5163, -4091, 5843, -8857, 6447, 9578, 5648, 2600, 3994, -5367,\n",
    "    4910, -7175, -8248, -1797, 464, -330, 1583, -5561, 5481, 6396]\n",
    "\n",
    "serie2 = [43056, 44841, 54869, 96110, 53702, 73268, 26547, 40258, 20626, 55565,\n",
    "    43443, 37186, 52540, 65978, 73842, 92091, 20877, 97542, 7238, 46727,\n",
    "    67352, 43043, 85870, 82117, 55185, 76517, 57148, 14091, 35371, 47186, 3191]\n",
    "\n",
    "print(\"Median absolute deviation of serie 1:\", median.median_absolute_deviation(serie1))\n",
    "print(\"Median absolute deviation of serie 2:\", median.median_absolute_deviation(serie2))"
   ]
  },
  {
   "cell_type": "markdown",
   "id": "54fa658e",
   "metadata": {},
   "source": [
    "# Example of the weighted median function"
   ]
  },
  {
   "cell_type": "code",
   "execution_count": 4,
   "id": "70c43c45",
   "metadata": {},
   "outputs": [
    {
     "name": "stdout",
     "output_type": "stream",
     "text": [
      "Weighted median of serie 1: 3090.0\n",
      "Weighted median of serie 2: 39391.0\n",
      "Weighted median of serie 3: 2.5\n"
     ]
    }
   ],
   "source": [
    "serie1 = [5448, -7152, -4231, -238, 8961, 2591, 9815, -1938, 6012, 8455,\n",
    "    -5086, 2968, 1880, 3970, 3621, -9473, 722, -7690, 5984, 4433,\n",
    "    7702, 2907, 7888, 5925, 6243, 3090, -7510, -3322, -3441, 8376]\n",
    "weights1 = [0.0243, 0.0511, 0.0167, 0.0372, 0.0159, 0.0286, 0.1224, 0.0564, 0.0312, 0.0398,\n",
    " 0.0275, 0.0327, 0.0345, 0.0303, 0.0261, 0.0184, 0.0237, 0.0248, 0.0356, 0.0296,\n",
    " 0.0339, 0.0202, 0.0255, 0.0091, 0.0383, 0.0219, 0.0417, 0.0406, 0.0429, 0.0191]\n",
    "\n",
    "serie2 = [ 43666, 77294, 27750, 12134, 56773, 98463, 58837, 38651, 39741, 79333,\n",
    "    14098, 33535, 39391, 78701, 98558, 29205, 41555, 7516, 47139, 31807,\n",
    "    175, 33156, 15285, 65167, 86191, 79825, 25505, 96020, 98113, 98800, 7391]\n",
    "weights2 = [0.0142, 0.0295, 0.0121, 0.0389, 0.0437, 0.0073, 0.0514, 0.0336, 0.0245, 0.0287,\n",
    " 0.0189, 0.0173, 0.0408, 0.0276, 0.0161, 0.0352, 0.0304, 0.1368, 0.05075, 0.0342,\n",
    " 0.0219, 0.0396, 0.0258, 0.0267, 0.0315, 0.0232, 0.0196, 0.0279, 0.0224, 0.0187, 0.05075]\n",
    "\n",
    "serie3 = [1, 2, 3, 4]\n",
    "weights3 = [0.25, 0.25, 0.25, 0.25] # case in which upper and lower medians are different\n",
    "\n",
    "print(\"Weighted median of serie 1:\", median.weighted_median(serie1, weights1))\n",
    "print(\"Weighted median of serie 2:\", median.weighted_median(serie2, weights2))\n",
    "print(\"Weighted median of serie 3:\", median.weighted_median(serie3, weights3))\n",
    "\n"
   ]
  },
  {
   "cell_type": "markdown",
   "id": "a70d2ea9",
   "metadata": {},
   "source": [
    "# Example of the lower weighted median function"
   ]
  },
  {
   "cell_type": "code",
   "execution_count": 5,
   "id": "f5b5756d",
   "metadata": {},
   "outputs": [
    {
     "name": "stdout",
     "output_type": "stream",
     "text": [
      "Lower weighted median of serie 1: 541\n",
      "Lower weighted median of serie 2: 45789\n",
      "Lower weighted median of serie 3: 2\n"
     ]
    }
   ],
   "source": [
    "serie1 = [1093, -4715, -2398, -3476, 4649, 1747, 2422, 5925, 5781, 1791,\n",
    "    -41, -8967, -2988, -6875, 1532, 5540, -9282, 7062, -3447, -2853,\n",
    "    -818, 9249, -6439, 8790, 1014, -6737, -4481, 5482, 7697, -6492, 541]\n",
    "weights1 = [0.0178, 0.0205, 0.0271, 0.0453, 0.1154, 0.0332, 0.0379, 0.0263, 0.0427, 0.0186,\n",
    " 0.0224, 0.0411, 0.0308, 0.0123, 0.0246, 0.0351, 0.1089, 0.0317, 0.0251, 0.0296,\n",
    " 0.0245, 0.0394, 0.0342, 0.0167, 0.0212, 0.0197, 0.0365, 0.0138, 0.0226, 0.015, 0.01]\n",
    "\n",
    "serie2 = [36918, 96446, 20279, 99351, 38379, 20985, 48296, 50929, 73623, 94710,\n",
    "    95293, 3738, 61561, 56239, 80388, 61502, 80875, 83144, 45789, 79680,\n",
    "    2839, 44008, 29314, 88127, 83110, 58155, 21793, 98006, 37462, 31470]\n",
    "weights2 = [0.0201, 0.0274, 0.0302, 0.0246, 0.0327, 0.0349, 0.0136, 0.0221, 0.0265, 0.0311,\n",
    " 0.0218, 0.0193, 0.0159, 0.0167, 0.0395, 0.043, 0.0346, 0.0175, 0.0362, 0.0257,\n",
    " 0.0181, 0.2354, 0.0148, 0.0232, 0.0283, 0.0376, 0.0291, 0.0384, 0.0229, 0.0188]\n",
    "\n",
    "serie3 = [1, 2, 3, 4]\n",
    "weights3 = [0.25, 0.25, 0.25, 0.25] # case in which upper and lower medians are different\n",
    "\n",
    "print(\"Lower weighted median of serie 1:\", median.lower_weighted_median(serie1, weights1))\n",
    "print(\"Lower weighted median of serie 2:\", median.lower_weighted_median(serie2, weights2))\n",
    "print(\"Lower weighted median of serie 3:\", median.lower_weighted_median(serie3, weights3))"
   ]
  },
  {
   "cell_type": "markdown",
   "id": "bcb143dc",
   "metadata": {},
   "source": [
    "# Example of the upper weighted median function"
   ]
  },
  {
   "cell_type": "code",
   "execution_count": 6,
   "id": "9dd68bce",
   "metadata": {},
   "outputs": [
    {
     "name": "stdout",
     "output_type": "stream",
     "text": [
      "Upper weighted median of serie 1: 12\n",
      "Upper weighted median of serie 2: 49061\n",
      "Upper weighted median of serie 3: 3\n"
     ]
    }
   ],
   "source": [
    "serie1 = [4504, -243, -140, -9966, 1989, -1748, -223, 1291, 9247, 6331,\n",
    "    -7528, -6954, 8013, 1498, 4252, -1860, -2911, -3243, 3786, -3901,\n",
    "    -9742, -6544, -7121, 6670, -1604, -9780, 2995, 7800, -4990, -9659, 12]\n",
    "weights1 = [0.0315, 0.0268, 0.0172, 0.0217, 0.0341, 0.0156, 0.0429, 0.0234, 0.0276, 0.0371,\n",
    " 0.0388, 0.0149, 0.0253, 0.0185, 0.0164, 0.0297, 0.0356, 0.0399, 0.0223, 0.0309,\n",
    " 0.0332, 0.0208, 0.0405, 0.0137, 0.0242, 0.0281, 0.0363, 0.0324, 0.0196, 0.0127, 0.1883]\n",
    "\n",
    "serie2 = [8670, 4638, 10394, 24960, 72711, 6231, 13392, 49061, 84062, 61328,\n",
    "    29519, 66639, 69971, 58372, 57074, 25014, 20955, 88957, 62199, 35464,\n",
    "    10487, 30871, 60291, 43931, 40911, 56527, 772, 47548, 54233, 79184]\n",
    "weights2 = [0.0247, 0.0343, 0.0368, 0.0183, 0.1401, 0.0205, 0.1169, 0.0227, 0.0394, 0.0331,\n",
    " 0.0282, 0.0254, 0.0317, 0.0305, 0.0194, 0.0158, 0.0152, 0.0145, 0.0379, 0.0276,\n",
    " 0.0328, 0.0171, 0.0356, 0.0293, 0.0216, 0.0412, 0.0169, 0.0387, 0.0139, 0.0199]\n",
    "\n",
    "serie3 = [1, 2, 3, 4]\n",
    "weights3 = [0.25, 0.25, 0.25, 0.25] # case in which upper and lower medians are different\n",
    "\n",
    "print(\"Upper weighted median of serie 1:\", median.upper_weighted_median(serie1, weights1))\n",
    "print(\"Upper weighted median of serie 2:\", median.upper_weighted_median(serie2, weights2))\n",
    "print(\"Upper weighted median of serie 3:\", median.upper_weighted_median(serie3, weights3))"
   ]
  },
  {
   "cell_type": "markdown",
   "id": "6a7e2296",
   "metadata": {},
   "source": [
    "# Example of the percentile function"
   ]
  },
  {
   "cell_type": "code",
   "execution_count": 7,
   "id": "6f2f8745",
   "metadata": {},
   "outputs": [
    {
     "name": "stdout",
     "output_type": "stream",
     "text": [
      "Percentile of serie 1 at p = 34 : -1403.1999999999994\n",
      "Percentile of serie 2 at p = 6 : 11870.82\n"
     ]
    }
   ],
   "source": [
    "serie1 = [-727, 2812, -8372, 7465, 7459, 4299, -936, -9503, -6595, 9400,\n",
    "    -8475, -9907, -7716, 9194, -3722, 5796, 9941, -4266, -1520, 7417,\n",
    "    4781, 8483, 3051, 7472, 9772, 9134, -237, -4347, 8940, 2580, -6262]\n",
    "p1 = 34\n",
    "\n",
    "serie2 = [87987, 80551, 59168, 70373, 17864, 25400, 45340, 73484, 46725, 57854,\n",
    "    38743, 19056, 58866, 12207, 39536, 80829, 10914, 37123, 64256, 26210,\n",
    "    10160, 23743, 68310, 53724, 22081, 71638, 84659, 89456, 52579, 52405]\n",
    "p2 = 6\n",
    "\n",
    "print(\"Percentile of serie 1 at p =\", p1, \":\", median.percentile(serie1, p1))\n",
    "print(\"Percentile of serie 2 at p =\", p2, \":\", median.percentile(serie2, p2))"
   ]
  },
  {
   "cell_type": "markdown",
   "id": "a8ded725",
   "metadata": {},
   "source": [
    "# Example of the interquartile range function"
   ]
  },
  {
   "cell_type": "code",
   "execution_count": 8,
   "id": "cb42cbd5",
   "metadata": {},
   "outputs": [
    {
     "name": "stdout",
     "output_type": "stream",
     "text": [
      "Interquartile range of serie 1: 10241.0\n",
      "Interquartile range of serie 2: 58648.75\n"
     ]
    }
   ],
   "source": [
    "serie1 = [6306, 1835, -5350, 5633, -3334, -4759, 7839, -6643, 2883, -7758,\n",
    "    8004, 9506, 1620, 5504, -7221, 9945, -4586, 3625, 1801, -4132,\n",
    "    6265, 1865, 1488, 1092, -6907, 7811, 1167, -5367, 1764, 1794, -6260]\n",
    "\n",
    "serie2 = [25689, 90394, 13127, 75663, 36136, 95, 66843, 99731, 63413, 8076,\n",
    "    3390, 84579, 33725, 33549, 15526, 19595, 14489, 3187, 68993, 15287,\n",
    "    80255, 87413, 27790, 40401, 24344, 42580, 3492, 31286, 81760, 89992]\n",
    "\n",
    "print(\"Interquartile range of serie 1:\", median.interquartile_range(serie1))\n",
    "print(\"Interquartile range of serie 2:\", median.interquartile_range(serie2))"
   ]
  },
  {
   "cell_type": "markdown",
   "id": "7933fe44",
   "metadata": {},
   "source": [
    "# Example of the midhinge function"
   ]
  },
  {
   "cell_type": "code",
   "execution_count": 9,
   "id": "6f64e845",
   "metadata": {},
   "outputs": [
    {
     "name": "stdout",
     "output_type": "stream",
     "text": [
      "Midhinge of serie 1: -993.0\n",
      "Midhinge of serie 2: 58969.875\n"
     ]
    }
   ],
   "source": [
    "serie1 = [-8008, -5894, 69, 3896, 7815, 3077, 1794, -8332, 3413, -8411,\n",
    "    -4890, 4641, -9550, -5433, -481, -8601, -1499, -3754, 2810, 1509,\n",
    "    5897, -2217, -6260, -9285, -2191, -7505, 4498, 4286, 9192, 6261, 7391]\n",
    "\n",
    "serie2 = [46219, 40714, 71107, 40170, 31279, 65695, 26413, 13782, 48408, 71972,\n",
    "    96965, 84905, 45530, 22354, 67576, 92846, 34954, 63202, 91941, 64623,\n",
    "    1235, 9546, 86901, 89300, 19071, 86021, 90103, 69644, 19293, 98903]\n",
    "\n",
    "print(\"Midhinge of serie 1:\", median.midhinge(serie1))\n",
    "print(\"Midhinge of serie 2:\", median.midhinge(serie2))"
   ]
  },
  {
   "cell_type": "markdown",
   "id": "ad8f9ae6",
   "metadata": {},
   "source": [
    "# Example of the first quartile function"
   ]
  },
  {
   "cell_type": "code",
   "execution_count": 10,
   "id": "22aec095",
   "metadata": {},
   "outputs": [
    {
     "name": "stdout",
     "output_type": "stream",
     "text": [
      "First quartile of serie 1: -7427.0\n",
      "First quartile of serie 2: 32288.25\n"
     ]
    }
   ],
   "source": [
    "serie1 = [1111, -8708, 1850, -8549, 1560, -9589, 4638, -9323, -3650, -7280,\n",
    "    -7574, 4654, 7799, -9085, 893, 8772, -7601, -9218, 7442, -6212,\n",
    "    1121, 3183, -363, -297, 9772, -3013, -2471, 4564, -5289, 6023, 724]\n",
    "\n",
    "serie2 = [75485, 72110, 50701, 65022, 99572, 79568, 21953, 97345, 17035, 43113,\n",
    "    13968, 92072, 50704, 6379, 57804, 86042, 56436, 77442, 23576, 62528,\n",
    "    45094, 28680, 1015, 25765, 45858, 91438, 43268, 83316, 86870, 66511]\n",
    "\n",
    "print(\"First quartile of serie 1:\", median.first_quartile(serie1))\n",
    "print(\"First quartile of serie 2:\", median.first_quartile(serie2))"
   ]
  },
  {
   "cell_type": "markdown",
   "id": "41e7e0a3",
   "metadata": {},
   "source": [
    "# Example of the third quartile function"
   ]
  },
  {
   "cell_type": "code",
   "execution_count": 11,
   "id": "af4d969f",
   "metadata": {},
   "outputs": [
    {
     "name": "stdout",
     "output_type": "stream",
     "text": [
      "Third quartile of serie 1: 6011.5\n",
      "Third quartile of serie 2: 67536.75\n"
     ]
    }
   ],
   "source": [
    "serie1 = [-8862, 732, -7691, 2164, 8736, -7026, -3416, 3450, -8234, -7485,\n",
    "    7532, 4578, 7421, 9445, -4354, 6269, -6635, 2216, -4220, -8307,\n",
    "    1171, -5549, 2808, 852, -7417, 6376, 7108, -2000, 8038, 5754, 3191]\n",
    "\n",
    "serie2 = [ 65648, 69571, 12341, 936, 59592, 58109, 95194, 82783, 50153, 66069,\n",
    "    37072, 98787, 67624, 58469, 25766, 67275, 68082, 38481, 31825, 17492,\n",
    "    49526, 50838, 60213, 65235, 82059, 7757, 57035, 55207, 24444, 89137]\n",
    "\n",
    "print(\"Third quartile of serie 1:\", median.third_quartile(serie1))\n",
    "print(\"Third quartile of serie 2:\", median.third_quartile(serie2))"
   ]
  },
  {
   "cell_type": "markdown",
   "id": "34e709d0",
   "metadata": {},
   "source": [
    "# Example of the quartile deviation function"
   ]
  },
  {
   "cell_type": "code",
   "execution_count": 12,
   "id": "deebc9fa",
   "metadata": {},
   "outputs": [
    {
     "name": "stdout",
     "output_type": "stream",
     "text": [
      "Quartile deviation of serie 1: 3880.5\n",
      "Quartile deviation of serie 2: 22013.25\n"
     ]
    }
   ],
   "source": [
    "serie1 = [-656, 7358, 2022, -5099, -7318, 749, 4950, -4551, -3464, 9410,\n",
    "    357, 4417, -77, -7881, 4119, 7568, 9986, -5970, 9564, -2193,\n",
    "    1780, -6508, -2602, -1550, 6652, 6586, 4418, 1889, -2690, -9396, 349]\n",
    "\n",
    "serie2 = [49077, 68702, 19114, 49706, 57252, 27519, 73986, 12746, 61911, 70644,\n",
    "    29052, 36447, 12495, 97165, 15337, 72601, 53222, 20567, 77819, 67003,\n",
    "    51098, 88835, 98879, 61617, 88865, 47760, 27763, 80811, 21968, 67436]\n",
    "\n",
    "print(\"Quartile deviation of serie 1:\", median.quartile_deviation(serie1))\n",
    "print(\"Quartile deviation of serie 2:\", median.quartile_deviation(serie2))"
   ]
  },
  {
   "cell_type": "markdown",
   "id": "a8fd2d4b",
   "metadata": {},
   "source": [
    "# Example of the coefficient of quartile deviation function"
   ]
  },
  {
   "cell_type": "code",
   "execution_count": 13,
   "id": "15993017",
   "metadata": {},
   "outputs": [
    {
     "name": "stdout",
     "output_type": "stream",
     "text": [
      "Coefficient of quartile deviation of serie 1: -850.2\n",
      "Coefficient of quartile deviation of serie 2: 0.4356064995353083\n"
     ]
    }
   ],
   "source": [
    "serie1 = [4719, -3077, 51, -342, -278, 9382, -3474, 200, 1736, 4959,\n",
    "    705, -8465, -8758, -1803, 3962, 7307, 9070, -472, -2013, -3307,\n",
    "    5897, -9189, -8947, -187, -2629, 5323, -4302, -8333, 2407, -1557, 2149]\n",
    "\n",
    "serie2 = [48039, 49268, 96041, 68217, 53693, 29028, 82120, 38364, 92460, 38916,\n",
    "    78329, 16871, 89273, 32246, 62915, 68544, 5671, 59721, 88057, 60490,\n",
    "    28743, 13411, 88307, 6482, 38390, 12697, 34049, 10276, 42368, 91040]\n",
    "\n",
    "print(\"Coefficient of quartile deviation of serie 1:\", median.coefficient_quartile_deviation(serie1))\n",
    "print(\"Coefficient of quartile deviation of serie 2:\", median.coefficient_quartile_deviation(serie2))"
   ]
  }
 ],
 "metadata": {
  "kernelspec": {
   "display_name": "Python 3",
   "language": "python",
   "name": "python3"
  },
  "language_info": {
   "codemirror_mode": {
    "name": "ipython",
    "version": 3
   },
   "file_extension": ".py",
   "mimetype": "text/x-python",
   "name": "python",
   "nbconvert_exporter": "python",
   "pygments_lexer": "ipython3",
   "version": "3.13.3"
  }
 },
 "nbformat": 4,
 "nbformat_minor": 5
}
