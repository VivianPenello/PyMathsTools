{
 "cells": [
  {
   "cell_type": "markdown",
   "id": "51aebb40",
   "metadata": {},
   "source": [
    "# Please execute the cell below to import the module"
   ]
  },
  {
   "cell_type": "code",
   "execution_count": 1,
   "id": "838229a8",
   "metadata": {},
   "outputs": [],
   "source": [
    "from pymathstools.statistic import mode"
   ]
  },
  {
   "cell_type": "markdown",
   "id": "b3baa7d6",
   "metadata": {},
   "source": [
    "# Example of the mode function"
   ]
  },
  {
   "cell_type": "code",
   "execution_count": 2,
   "id": "a1c1933d",
   "metadata": {},
   "outputs": [
    {
     "name": "stdout",
     "output_type": "stream",
     "text": [
      "Mode of serie1: 78\n",
      "Mode of serie2: (78, 88)\n"
     ]
    }
   ],
   "source": [
    "serie1 = [60, 65, 67, 70, 70, 72, 78, 78, 78, 78, 84, 88, 88, 88, 95]\n",
    "\n",
    "serie2 = [60, 65, 67, 70, 70, 72, 78, 78, 78, 84, 88, 88, 88, 90, 95]\n",
    "\n",
    "print(\"Mode of serie1:\", mode.mode(serie1))\n",
    "print(\"Mode of serie2:\", mode.mode(serie2))"
   ]
  },
  {
   "cell_type": "markdown",
   "id": "86abe265",
   "metadata": {},
   "source": [
    "# Example of the weighted mode function"
   ]
  },
  {
   "cell_type": "code",
   "execution_count": 3,
   "id": "39545f36",
   "metadata": {},
   "outputs": [
    {
     "name": "stdout",
     "output_type": "stream",
     "text": [
      "Weighted mode of serie1: 4\n",
      "Weighted mode of serie2: (26, 81)\n"
     ]
    }
   ],
   "source": [
    "serie1 = [4, 1, 4, 2, 4, 2]\n",
    "weights1 = [1, 1, 1, 1, 1, 1]\n",
    "\n",
    "serie2 = [81, 26, 40, 62, 60, 57, 34, 18, 85, 6, 36, 15, 43, 92, 52]\n",
    "weights2 = [9, 9, 2, 5, 4, 8, 3, 6, 5, 3, 5, 6, 6, 8, 2]\n",
    "\n",
    "print(\"Weighted mode of serie1:\", mode.weighted_mode(serie1, weights1))\n",
    "print(\"Weighted mode of serie2:\", mode.weighted_mode(serie2, weights2))"
   ]
  },
  {
   "cell_type": "markdown",
   "id": "98006e0d",
   "metadata": {},
   "source": [
    "# Example of the number of occurences of the mode"
   ]
  },
  {
   "cell_type": "code",
   "execution_count": 4,
   "id": "0b27a64e",
   "metadata": {},
   "outputs": [
    {
     "name": "stdout",
     "output_type": "stream",
     "text": [
      "Mode of serie1: (-6, -5, 4)\n",
      "Number of occurrences of the mode of series 1: 2\n",
      "Mode of serie2: 6\n",
      "Number of occurrences of the mode of series 2: 3\n"
     ]
    }
   ],
   "source": [
    "serie1 = [4, 4, -5, -1, 7, -8, 10, -3, 8, -5, -2, 3, -6, -6]\n",
    "\n",
    "serie2 = [9, 5, 2, 7, 7, 6, 10, 5, 9, 6, 10, 6, 8, 1, 3]\n",
    "\n",
    "print(\"Mode of serie1:\", mode.mode(serie1))\n",
    "print(\"Number of occurrences of the mode of series 1:\", mode.number_occurrences_mode(serie1))\n",
    "print(\"Mode of serie2:\", mode.mode(serie2))\n",
    "print(\"Number of occurrences of the mode of series 2:\", mode.number_occurrences_mode(serie2))"
   ]
  },
  {
   "cell_type": "markdown",
   "id": "bc6a729d",
   "metadata": {},
   "source": [
    "# Example of the number of occurences of the mode in a weighted serie"
   ]
  },
  {
   "cell_type": "code",
   "execution_count": 5,
   "id": "9e59019b",
   "metadata": {},
   "outputs": [
    {
     "name": "stdout",
     "output_type": "stream",
     "text": [
      "Weighted mode of serie1: (2, 15, 17)\n",
      "Number of occurrences of the weighted mode of series 1: 15\n",
      "Weighted mode of serie2: 13\n",
      "Number of occurrences of the weighted mode of series 2: 16\n"
     ]
    }
   ],
   "source": [
    "serie1 = [10, -6, -7, 15, 5, 8, 17, 2, -5, 14, 11, 15, 2, 18, 17]\n",
    "weights1 = [7, 4, 1, 5, 7, 5, 7, 10, 4, 3, 4, 10, 5, 4, 8]\n",
    "\n",
    "serie2 = [-8, -4, -3, 13, 3, 18, 15, 2, -9, 19, 10, 16, -3, -8, 13]\n",
    "weights2 = [10, 8, 9, 8, 10, 1, 8, 1, 1, 4, 3, 8, 3, 5, 8]\n",
    "\n",
    "print(\"Weighted mode of serie1:\", mode.weighted_mode(serie1, weights1))\n",
    "print(\"Number of occurrences of the weighted mode of series 1:\", mode.number_occurrences_weighted_mode(serie1, weights1))\n",
    "print(\"Weighted mode of serie2:\", mode.weighted_mode(serie2, weights2))\n",
    "print(\"Number of occurrences of the weighted mode of series 2:\", mode.number_occurrences_weighted_mode(serie2, weights2))"
   ]
  }
 ],
 "metadata": {
  "kernelspec": {
   "display_name": "Python 3",
   "language": "python",
   "name": "python3"
  },
  "language_info": {
   "codemirror_mode": {
    "name": "ipython",
    "version": 3
   },
   "file_extension": ".py",
   "mimetype": "text/x-python",
   "name": "python",
   "nbconvert_exporter": "python",
   "pygments_lexer": "ipython3",
   "version": "3.13.3"
  }
 },
 "nbformat": 4,
 "nbformat_minor": 5
}
