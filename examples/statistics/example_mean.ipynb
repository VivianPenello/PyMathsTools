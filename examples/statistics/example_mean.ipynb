{
 "cells": [
  {
   "cell_type": "markdown",
   "id": "80912247",
   "metadata": {},
   "source": [
    "# Please execute the cell below to import the module"
   ]
  },
  {
   "cell_type": "code",
   "execution_count": 1,
   "id": "9e452cc7",
   "metadata": {},
   "outputs": [],
   "source": [
    "from pymathstools.statistic import mean"
   ]
  },
  {
   "cell_type": "markdown",
   "id": "035ba9c4",
   "metadata": {},
   "source": [
    "# Example of the arithmetical mean function"
   ]
  },
  {
   "cell_type": "code",
   "execution_count": 2,
   "id": "277dac00",
   "metadata": {},
   "outputs": [
    {
     "name": "stdout",
     "output_type": "stream",
     "text": [
      "Mean of serie 1: 18.0\n",
      "Mean of serie 2: 5646494.485714286\n",
      "Mean of serie 3: 4536345.685714286\n"
     ]
    }
   ],
   "source": [
    "serie1 = [1, 2, 3, 4, 5, 6, 7, 8, 9, 10, 11, 12, 13, 14, 15, 16, 17, 18, 19, 20, 21,\n",
    "          22, 23, 24, 25, 26, 27, 28, 29, 30, 31, 32, 33, 34, 35]\n",
    "\n",
    "serie2 = [8660544, 1440781, 9780999, 6729014, 8713804, 5150742, 3593890, 7125119,\n",
    "    3658765, 1113103, 8330133, 7786258, 9337650, 102010, 7625199, 3460136,\n",
    "    2970514, 5706082, 204071, 452827, 5405149, 6888600, 8525190, 8541806,\n",
    "    919484, 5852194, 1095757, 9926365, 8704293, 7144597, 6249415, 7148405,\n",
    "    5865511, 7492633, 5926267]\n",
    "\n",
    "serie3 = [7982023, 4835354, 7910818, 8705598, 953163, 2026432, 9223713, 439437,\n",
    "    4329387, 2167123, 8902583, 7087772, 2848922, 22724, 816357, 8250320,\n",
    "    3748574, 973119, 9361374, 675368, 3125007, 2716725, 9938131, 1593258,\n",
    "    8621740, 8058365, 7186352, 5057751, -531060, -87236, 1715833, 8635846,\n",
    "    1831940, 298858, 9350428]\n",
    "\n",
    "print(\"Mean of serie 1:\", mean.arithmetic_mean(serie1))\n",
    "print(\"Mean of serie 2:\", mean.arithmetic_mean(serie2))\n",
    "print(\"Mean of serie 3:\", mean.arithmetic_mean(serie3))"
   ]
  },
  {
   "cell_type": "markdown",
   "id": "e6ca069e",
   "metadata": {},
   "source": [
    "# Example of the weighted mean function"
   ]
  },
  {
   "cell_type": "code",
   "execution_count": 3,
   "id": "336fea3b",
   "metadata": {},
   "outputs": [
    {
     "name": "stdout",
     "output_type": "stream",
     "text": [
      "Weighted mean of serie 1 : 393.8473282442748\n",
      "Weighted mean of serie 2 : 5671289.6574536245\n"
     ]
    }
   ],
   "source": [
    "serie1 = [581, 137, 766, 451, 430, 756, 128, 45, 570, 282,\n",
    "    276, 8, 715, 542, 309, 254, 766, 446, 289, 117,\n",
    "    556, 28, 439, 328, 726, 461, 342, 514, 66, 537]\n",
    "\n",
    "weights1 = [18, 10, 6, 6, 1, 1, 2, 13, 2, 6,\n",
    "    19, 5, 3, 15, 17, 13, 1, 20, 2, 5,\n",
    "    13, 1, 8, 10, 9, 6, 2, 17, 11, 20]\n",
    "\n",
    "serie2 = [1804437, 372364, 5218423, 4414896, 6899233, 1681338, 2859293, 8023138, -88998, 9593643,\n",
    "    4465376, 7579876, 5371872, 10107217, 10433881, 1699262, 5005009, 5396974, 1681354, 105107,\n",
    "    530315, 6781634, 1446922, 6829627, 5942292, 9126445, 56504, 10956458, 5496523, 3331497]\n",
    "\n",
    "weiths2 = [515, 464, 485, 443, 187, 354, 26, 808, 63, 696,\n",
    "    170, 570, 548, 478, 728, 562, 593, 469, 434, 55,\n",
    "    270, 156, 620, 79, 753, 900, 144, 685, 486, 682]\n",
    "\n",
    "print(\"Weighted mean of serie 1 :\", mean.weighted_mean(serie1, weights1))\n",
    "print(\"Weighted mean of serie 2 :\", mean.weighted_mean(serie2, weiths2))"
   ]
  },
  {
   "cell_type": "markdown",
   "id": "8fe3bcef",
   "metadata": {},
   "source": [
    "# Example of the geometric mean function"
   ]
  },
  {
   "cell_type": "code",
   "execution_count": 4,
   "id": "a2976400",
   "metadata": {},
   "outputs": [
    {
     "name": "stdout",
     "output_type": "stream",
     "text": [
      "Geometric mean of serie 1: 369368.24319229595\n",
      "Geometric mean of serie 2: 324.002255625173\n"
     ]
    }
   ],
   "source": [
    "serie1 = [763091, 600630, 960187, 623622, 112329, 293063, 113200, 872856, 732441, 716082,\n",
    "    364318, 303623, 625856, 355265, 839368, 19864, 343468, 788947, 308607, 842773,\n",
    "    43298, 562397, 311644, 410676, 530291, 509849, 76857, 594229, 274838, 738071]\n",
    "\n",
    "serie2 = [449, 799, 973, 27, 372, 938, 568, 239, 355, 387,\n",
    "    48, 668, 698, 448, 10, 297, 453, 275, 536, 466,\n",
    "    531, 969, 506, 991, 126, 607, 252, 697, 20, 526]\n",
    "\n",
    "print(\"Geometric mean of serie 1:\", mean.geometric_mean(serie1))\n",
    "print(\"Geometric mean of serie 2:\", mean.geometric_mean(serie2))"
   ]
  },
  {
   "cell_type": "markdown",
   "id": "8be847af",
   "metadata": {},
   "source": [
    "# Example of the harmnic mean function"
   ]
  },
  {
   "cell_type": "code",
   "execution_count": 5,
   "id": "cf0e8810",
   "metadata": {},
   "outputs": [
    {
     "name": "stdout",
     "output_type": "stream",
     "text": [
      "Harmonic mean of serie 1: 4107.4780303124335\n",
      "Harmonic mean of serie 2: 155.47290571950796\n"
     ]
    }
   ],
   "source": [
    "serie1 = [-7, 8211, 1234, 3218, 7866, 8350, 9966, 7611, 7521, 8155,\n",
    "    2352, 7342, 2632, 5746, 5905, 1554, 4367, 5144, 8520, 5963,\n",
    "    7909, 1680, 2295, 5352, 6965, 6572, 4638, 3431, 5425, 8686]\n",
    "\n",
    "serie2 = [991, 289, 857, 157, 71, 817, 658, 986, 887, 706,\n",
    "    398, -2, 480, 9, 950, 209, 614, 828, 874, 209,\n",
    "    743, 340, 595, 714, 722, 850, 108, 471, 874, 730]\n",
    "\n",
    "print(\"Harmonic mean of serie 1:\", mean.harmonic_mean(serie1))\n",
    "print(\"Harmonic mean of serie 2:\", mean.harmonic_mean(serie2))"
   ]
  },
  {
   "cell_type": "markdown",
   "id": "26ceca00",
   "metadata": {},
   "source": [
    "# Example of the quadratic mean function"
   ]
  },
  {
   "cell_type": "code",
   "execution_count": 6,
   "id": "f6c2d87a",
   "metadata": {},
   "outputs": [
    {
     "name": "stdout",
     "output_type": "stream",
     "text": [
      "Quadratic mean of serie 1: 5985.616239508398\n",
      "Quadratic mean of serie 2: 51647.160670586076\n"
     ]
    }
   ],
   "source": [
    "serie1 = [-2511, -6687, 8402, -8157, 8226, 7090, -4996, 7369, 6133, -9603,\n",
    "    -148, 7334, -9133, -4354, -5620, -5554, 7595, -6786, -5538, 9570,\n",
    "    -1619, 1477, -2851, 3668, -1442, 4878, 2488, 6291, 1162, 3959]\n",
    "\n",
    "serie2 = [58752, 35038, 2403, 7982, 54376, 1740, 55990, 71263, 3888, 18002,\n",
    "    51803, 33951, 82394, 26759, 39254, 83827, 79016, 42870, 66754, 25239,\n",
    "    66377, 69516, 30766, 52640, 79257, 57039, 15316, 77836, 177, 43523]\n",
    "\n",
    "print(\"Quadratic mean of serie 1:\", mean.quadratic_mean(serie1))\n",
    "print(\"Quadratic mean of serie 2:\", mean.quadratic_mean(serie2))"
   ]
  },
  {
   "cell_type": "markdown",
   "id": "92364c64",
   "metadata": {},
   "source": [
    "# Example of the midrandge function"
   ]
  },
  {
   "cell_type": "code",
   "execution_count": 7,
   "id": "62c1125a",
   "metadata": {},
   "outputs": [
    {
     "name": "stdout",
     "output_type": "stream",
     "text": [
      "Midrange of serie 1: 55.0\n",
      "Midrange of serie 2: 50232.0\n"
     ]
    }
   ],
   "source": [
    "serie1 = [5284, 9439, 7243, -1888, -3762, 8894, -4052, 3890, -4046, -5279,\n",
    "    8981, -1415, -1523, 4792, -5916, -8343, 4206, -4345, 3915, -2232,\n",
    "    -9329, -6846, -183, 1320, 2366, 5308, 2874, 1350, 1879, -1947]\n",
    "\n",
    "serie2 = [26599, 24237, 43690, 12196, 36801, 77054, 56185, 2092, 57856, 67601,\n",
    "    43125, 62123, 16274, 16852, 69972, 98372, 83589, 39913, 43341, 92087,\n",
    "    97084, 65466, 95847, 59747, 59744, 5012, 75361, 13020, 97773, 78548]\n",
    "\n",
    "print(\"Midrange of serie 1:\", mean.midrange(serie1))\n",
    "print(\"Midrange of serie 2:\", mean.midrange(serie2))"
   ]
  },
  {
   "cell_type": "markdown",
   "id": "b402b8fa",
   "metadata": {},
   "source": [
    "# Example of the trimmed mean function"
   ]
  },
  {
   "cell_type": "code",
   "execution_count": 8,
   "id": "2d9b8d9e",
   "metadata": {},
   "outputs": [
    {
     "name": "stdout",
     "output_type": "stream",
     "text": [
      "Trimmed mean of serie 1: 2022.5833333333333\n",
      "Trimmed mean of serie 2: 42702.166666666664\n"
     ]
    }
   ],
   "source": [
    "serie1 = [4446, 9505, 3990, 7206, -2171, 2976, -8121, 8497, 8384, -1869,\n",
    "    3920, -9832, -3210, -1546, 5278, -1755, 397, 9722, 6821, -8706,\n",
    "    -4100, 5049, 9855, 3008, -3001, 2138, -9847, 8161, 6287, -2243]\n",
    "trim1 = 0.1\n",
    "\n",
    "serie2 = [32969, 49920, 30962, 87924, 40483, 70263, 44990, 52656, 30563, 54259,\n",
    "    38125, 25000, 35861, 63801, 43691, 99625, 41508, 95753, 34899, 800,\n",
    "    3340, 24499, 21747, 40335, 40687, 60146, 77012, 66758, 32784, 775]\n",
    "trim2 = 0.2\n",
    "\n",
    "print(\"Trimmed mean of serie 1:\", mean.trimmed_mean(serie1, trim1))\n",
    "print(\"Trimmed mean of serie 2:\", mean.trimmed_mean(serie2, trim2))"
   ]
  },
  {
   "cell_type": "markdown",
   "id": "a8e731d9",
   "metadata": {},
   "source": [
    "# Example of the winsorized mean function"
   ]
  },
  {
   "cell_type": "code",
   "execution_count": 9,
   "id": "ca013113",
   "metadata": {},
   "outputs": [
    {
     "name": "stdout",
     "output_type": "stream",
     "text": [
      "Winsored mean of serie 1: 412.9\n",
      "Winsored mean of serie 2: 51078.03333333333\n"
     ]
    }
   ],
   "source": [
    "serie1 = [8656, 9882, -3502, -9523, -4169, -4974, -1528, 3244, -6617, -1230,\n",
    "    -3084, 5441, 1852, 4392, -1693, -61, 2444, 8662, -8665, -6108,\n",
    "    3461, 4111, -2792, 8229, 9844, -4044, -3333, 8738, 3262, -2935]\n",
    "percentile1 = 0.2\n",
    "\n",
    "serie2 = [ 81088, 55588, 903, 69541, 29491, 33562, 67516, 28344, 26738, 49502,\n",
    "    91859, 71485, 19473, 91511, 47100, 72562, 38862, 98000, 58158, 74230,\n",
    "    79752, 24168, 80005, 11034, 91052, 53815, 90985, 1091, 3189, 85118]\n",
    "lower_percentile2 = 0.1\n",
    "upper_percentile2 = 0.3\n",
    "\n",
    "print(\"Winsored mean of serie 1:\", mean.winsorized_mean(serie1, percentile1))\n",
    "print(\"Winsored mean of serie 2:\", mean.winsorized_mean(serie2, lower_percentile2, upper_percentile2))"
   ]
  },
  {
   "cell_type": "markdown",
   "id": "e473511c",
   "metadata": {},
   "source": [
    "# Example of the range function"
   ]
  },
  {
   "cell_type": "code",
   "execution_count": 10,
   "id": "bb210b83",
   "metadata": {},
   "outputs": [
    {
     "name": "stdout",
     "output_type": "stream",
     "text": [
      "Range of serie 1: 18246\n",
      "Range of serie 2: 94489\n"
     ]
    }
   ],
   "source": [
    "serie1 = [705, -5718, -1020, -8200, 3235, 1182, -1106, 4304, -5221, 7746,\n",
    "    5423, -186, 906, -7930, -7000, -6257, 48, -4572, -3491, 743,\n",
    "    -207, 3020, 8284, 1520, -7562, 4491, 8292, 7570, -9954, -9123]\n",
    "\n",
    "serie2 = [97485, 51959, 96041, 32383, 84656, 39358, 6938, 11700, 90632, 35051,\n",
    "    37963, 24858, 71361, 39423, 78587, 93239, 76912, 2996, 80827, 55509,\n",
    "    35880, 70921, 55640, 16445, 71222, 79626, 7634, 69928, 28376, 13743]\n",
    "\n",
    "print(\"Range of serie 1:\", mean.values_range(serie1))\n",
    "print(\"Range of serie 2:\", mean.values_range(serie2))"
   ]
  },
  {
   "cell_type": "markdown",
   "id": "1edde7aa",
   "metadata": {},
   "source": [
    "# Example of the coefficient of variation function"
   ]
  },
  {
   "cell_type": "code",
   "execution_count": 11,
   "id": "d11572c2",
   "metadata": {},
   "outputs": [
    {
     "name": "stdout",
     "output_type": "stream",
     "text": [
      "Coefficient of variation of serie 1: 2.6227205377164515\n",
      "Coefficient of variation of serie 2: 0.6986999153068757\n"
     ]
    }
   ],
   "source": [
    "serie1 = [-4491, -3500, -9615, 1088, -5469, 6185, 3976, -1985, 7481, 5839,\n",
    "    2589, -5381, -2980, 1201, 5499, 9802, 2478, 5095, 5888, -1961,\n",
    "    4079, 2014, -9740, 7596, 8881, 3673, 5749, 4260, 7514, 3922]\n",
    "\n",
    "serie2 = [47643, 29119, 73898, 14460, 15023, 10049, 3843, 94221, 24448, 11501,\n",
    "    41883, 55092, 40480, 13455, 30946, 17694, 32961, 67907, 20580, 20392,\n",
    "    19512, 79576, 87021, 33845, 91734, 17204, 89070, 93059, 27397, 30008]\n",
    "\n",
    "print(\"Coefficient of variation of serie 1:\", mean.coefficient_of_variation(serie1))\n",
    "print(\"Coefficient of variation of serie 2:\", mean.coefficient_of_variation(serie2))"
   ]
  }
 ],
 "metadata": {
  "kernelspec": {
   "display_name": "Python 3",
   "language": "python",
   "name": "python3"
  },
  "language_info": {
   "codemirror_mode": {
    "name": "ipython",
    "version": 3
   },
   "file_extension": ".py",
   "mimetype": "text/x-python",
   "name": "python",
   "nbconvert_exporter": "python",
   "pygments_lexer": "ipython3",
   "version": "3.13.3"
  }
 },
 "nbformat": 4,
 "nbformat_minor": 5
}
