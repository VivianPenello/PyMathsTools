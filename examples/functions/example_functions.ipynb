{
 "cells": [
  {
   "cell_type": "markdown",
   "id": "6d24a2a5",
   "metadata": {},
   "source": [
    "# Please execute the cell below to import the module"
   ]
  },
  {
   "cell_type": "code",
   "execution_count": 1,
   "id": "8245e914",
   "metadata": {},
   "outputs": [],
   "source": [
    "from pymathstools.functions import functions"
   ]
  },
  {
   "cell_type": "markdown",
   "id": "41381633",
   "metadata": {},
   "source": [
    "# Example of the factorial function"
   ]
  },
  {
   "cell_type": "code",
   "execution_count": 2,
   "id": "ba56d57c",
   "metadata": {},
   "outputs": [
    {
     "name": "stdout",
     "output_type": "stream",
     "text": [
      "The factorial of 7 is 5040\n",
      "The factorial of 18 is 6402373705728000\n"
     ]
    }
   ],
   "source": [
    "n1 = 7\n",
    "\n",
    "n2 = 18\n",
    "\n",
    "print(\"The factorial of\", n1, \"is\", functions.factorial(n1))\n",
    "print(\"The factorial of\", n2, \"is\", functions.factorial(n2))"
   ]
  },
  {
   "cell_type": "markdown",
   "id": "b859b900",
   "metadata": {},
   "source": [
    "# Example of the exponential function"
   ]
  },
  {
   "cell_type": "code",
   "execution_count": 2,
   "id": "cecea6c6",
   "metadata": {},
   "outputs": [
    {
     "name": "stdout",
     "output_type": "stream",
     "text": [
      "The exponential of 8.6 is 5431.65959136298\n",
      "The exponential of 12.43 is 250196.027602395\n"
     ]
    }
   ],
   "source": [
    "e1 = 8.6\n",
    "p1 = 1e-13\n",
    "\n",
    "e2 = 12.43\n",
    "p2 = 1e-17\n",
    "\n",
    "print(\"The exponential of\", e1, \"is\", functions.exponential(e1, p1))\n",
    "print(\"The exponential of\", e2, \"is\", functions.exponential(e2, p2))"
   ]
  },
  {
   "cell_type": "markdown",
   "id": "bbb3beba",
   "metadata": {},
   "source": [
    "# Example of the ln function"
   ]
  },
  {
   "cell_type": "code",
   "execution_count": 3,
   "id": "7e06b7dd",
   "metadata": {},
   "outputs": [
    {
     "name": "stdout",
     "output_type": "stream",
     "text": [
      "The natural logarith of 14 is 2.6390573296152584\n",
      "The natural logarith of 9.184 is 2.2174628395772107\n"
     ]
    }
   ],
   "source": [
    "v1 = 14\n",
    "p1 = 1e-16\n",
    "\n",
    "v2 = 9.184\n",
    "p2 = 1e-14\n",
    "\n",
    "print(\"The natural logarith of\", v1, \"is\", functions.ln(v1, p1))\n",
    "print(\"The natural logarith of\", v2, \"is\", functions.ln(v2, p2))"
   ]
  },
  {
   "cell_type": "markdown",
   "id": "f907a780",
   "metadata": {},
   "source": [
    "# Example of the log function"
   ]
  },
  {
   "cell_type": "code",
   "execution_count": 3,
   "id": "afc9d1b9",
   "metadata": {},
   "outputs": [
    {
     "name": "stdout",
     "output_type": "stream",
     "text": [
      "The logarithm of 142 in base 3 is 4.510988188207324\n",
      "The logarithm of 24.14 in base 13.6 is 1.2198410266740698\n",
      "The logarithm of 100 in base 10 is 2\n"
     ]
    }
   ],
   "source": [
    "v1 = 142\n",
    "b1 = 3\n",
    "p1 = 1e-12\n",
    "\n",
    "v2 = 24.14\n",
    "b2 = 13.6\n",
    "p2 = 1e-18\n",
    "\n",
    "v3 = 100\n",
    "b3 = 10\n",
    "\n",
    "print(\"The logarithm of\", v1, \"in base\", b1, \"is\", functions.log(v1, b1, p1))\n",
    "print(\"The logarithm of\", v2, \"in base\", b2, \"is\", functions.log(v2, b2, p2))\n",
    "print(\"The logarithm of\", v3, \"in base\", b3, \"is\", functions.log(v3, b3))"
   ]
  }
 ],
 "metadata": {
  "kernelspec": {
   "display_name": "Python 3",
   "language": "python",
   "name": "python3"
  },
  "language_info": {
   "codemirror_mode": {
    "name": "ipython",
    "version": 3
   },
   "file_extension": ".py",
   "mimetype": "text/x-python",
   "name": "python",
   "nbconvert_exporter": "python",
   "pygments_lexer": "ipython3",
   "version": "3.13.3"
  }
 },
 "nbformat": 4,
 "nbformat_minor": 5
}
